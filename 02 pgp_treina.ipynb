{
 "cells": [
  {
   "cell_type": "markdown",
   "metadata": {},
   "source": [
    "- ## Escolha do modelo\n",
    "- ## Treinamento do modelo\n",
    "- ## Teste do modelo\n",
    "- ## Armazenamento do modelo"
   ]
  },
  {
   "cell_type": "code",
   "execution_count": 38,
   "metadata": {},
   "outputs": [],
   "source": [
    "# maximiza nro de linhas e colunas para exibição\n",
    "# inibe mensagens de warning\n",
    "import pandas as pd\n",
    "pd.set_option('display.max_rows', None)\n",
    "pd.set_option('display.max_columns', None)\n",
    "import warnings\n",
    "warnings.simplefilter('ignore')"
   ]
  },
  {
   "cell_type": "code",
   "execution_count": 39,
   "metadata": {},
   "outputs": [],
   "source": [
    "# modelos de regressão\n",
    "from sklearn.linear_model import LinearRegression\n",
    "from sklearn.linear_model import Lasso\n",
    "from sklearn.linear_model import ElasticNet\n",
    "\n",
    "from sklearn.tree import DecisionTreeRegressor\n",
    "from sklearn.neighbors import KNeighborsRegressor\n",
    "from sklearn.svm import SVR\n",
    "\n",
    "from sklearn.ensemble import RandomForestRegressor\n",
    "from sklearn.ensemble import GradientBoostingRegressor\n",
    "from sklearn.ensemble import ExtraTreesRegressor\n",
    "from sklearn.ensemble import AdaBoostRegressor\n",
    "\n",
    "from sklearn.neural_network import MLPRegressor"
   ]
  },
  {
   "cell_type": "code",
   "execution_count": 40,
   "metadata": {},
   "outputs": [],
   "source": [
    "# análise de dados e avaliação dos modelos\n",
    "from sklearn.model_selection import train_test_split\n",
    "from sklearn.model_selection import KFold\n",
    "from sklearn.model_selection import cross_val_score\n",
    "from sklearn.model_selection import GridSearchCV\n",
    "\n",
    "from sklearn.metrics import mean_squared_error\n",
    "from sklearn.feature_selection import SelectKBest\n",
    "from sklearn.feature_selection import chi2, f_regression"
   ]
  },
  {
   "cell_type": "code",
   "execution_count": 41,
   "metadata": {},
   "outputs": [],
   "source": [
    "# modelos de aprendizado profundo\n",
    "from keras.models import Sequential\n",
    "from keras.layers import Dense\n",
    "from keras.optimizers import SGD\n",
    "from tensorflow.keras.optimizers import Adam\n",
    "from keras.layers import LSTM\n",
    "from scikeras.wrappers import KerasRegressor"
   ]
  },
  {
   "cell_type": "code",
   "execution_count": 42,
   "metadata": {},
   "outputs": [],
   "source": [
    "# modelos de séries temporais\n",
    "from statsmodels.tsa.arima_model import ARIMA\n",
    "import statsmodels.api as sm"
   ]
  },
  {
   "cell_type": "code",
   "execution_count": 43,
   "metadata": {},
   "outputs": [],
   "source": [
    "# preparação e visualização de dados\n",
    "# pandas, pandas_datareader, numpy e matplotlib\n",
    "import numpy as np\n",
    "#import pandas as pd\n",
    "import pandas_datareader.data as web\n",
    "\n",
    "from matplotlib import pyplot\n",
    "from pandas.plotting import scatter_matrix\n",
    "import seaborn as sns\n",
    "\n",
    "from sklearn.preprocessing import StandardScaler\n",
    "from pandas.plotting import scatter_matrix\n",
    "from statsmodels.graphics.tsaplots import plot_acf"
   ]
  },
  {
   "cell_type": "code",
   "execution_count": 44,
   "metadata": {},
   "outputs": [],
   "source": [
    "# carregando arquivo clusterizado em dataframe\n",
    "df_gold_trans = pd.read_csv('df_treated/df_gold_trans.csv')"
   ]
  },
  {
   "cell_type": "code",
   "execution_count": 45,
   "metadata": {},
   "outputs": [
    {
     "data": {
      "text/plain": [
       "(1152, 41)"
      ]
     },
     "execution_count": 45,
     "metadata": {},
     "output_type": "execute_result"
    }
   ],
   "source": [
    "# conferindo a dimensão do dataframe, linhas e colunas\n",
    "df_gold_trans.shape"
   ]
  },
  {
   "cell_type": "code",
   "execution_count": 46,
   "metadata": {},
   "outputs": [],
   "source": [
    "# ordenando pelo index o dataframe carregado\n",
    "df_gold_trans = df_gold_trans.sort_index()"
   ]
  },
  {
   "cell_type": "code",
   "execution_count": 47,
   "metadata": {},
   "outputs": [
    {
     "data": {
      "text/html": [
       "<div>\n",
       "<style scoped>\n",
       "    .dataframe tbody tr th:only-of-type {\n",
       "        vertical-align: middle;\n",
       "    }\n",
       "\n",
       "    .dataframe tbody tr th {\n",
       "        vertical-align: top;\n",
       "    }\n",
       "\n",
       "    .dataframe thead th {\n",
       "        text-align: right;\n",
       "    }\n",
       "</style>\n",
       "<table border=\"1\" class=\"dataframe\">\n",
       "  <thead>\n",
       "    <tr style=\"text-align: right;\">\n",
       "      <th></th>\n",
       "      <th>date</th>\n",
       "      <th>sp500 open</th>\n",
       "      <th>sp500 high</th>\n",
       "      <th>sp500 low</th>\n",
       "      <th>sp500 close</th>\n",
       "      <th>nasdaq open</th>\n",
       "      <th>nasdaq high</th>\n",
       "      <th>nasdaq low</th>\n",
       "      <th>nasdaq close</th>\n",
       "      <th>nasdaq high-low</th>\n",
       "      <th>usd_chf</th>\n",
       "      <th>silver open</th>\n",
       "      <th>silver high</th>\n",
       "      <th>silver low</th>\n",
       "      <th>silver close</th>\n",
       "      <th>silver volume</th>\n",
       "      <th>oil high-low</th>\n",
       "      <th>gold open</th>\n",
       "      <th>gold high</th>\n",
       "      <th>gold low</th>\n",
       "      <th>gold close</th>\n",
       "      <th>standard__sp500 open</th>\n",
       "      <th>standard__sp500 high</th>\n",
       "      <th>standard__sp500 low</th>\n",
       "      <th>standard__sp500 close</th>\n",
       "      <th>standard__nasdaq open</th>\n",
       "      <th>standard__nasdaq high</th>\n",
       "      <th>standard__nasdaq low</th>\n",
       "      <th>standard__nasdaq close</th>\n",
       "      <th>standard__nasdaq high-low</th>\n",
       "      <th>standard__usd_chf</th>\n",
       "      <th>standard__silver open</th>\n",
       "      <th>standard__silver high</th>\n",
       "      <th>standard__silver low</th>\n",
       "      <th>standard__silver close</th>\n",
       "      <th>standard__silver volume</th>\n",
       "      <th>standard__oil high-low</th>\n",
       "      <th>standard__gold open</th>\n",
       "      <th>standard__gold high</th>\n",
       "      <th>standard__gold low</th>\n",
       "      <th>standard__gold close</th>\n",
       "    </tr>\n",
       "  </thead>\n",
       "  <tbody>\n",
       "    <tr>\n",
       "      <th>0</th>\n",
       "      <td>2010-03-26</td>\n",
       "      <td>116.87</td>\n",
       "      <td>117.42</td>\n",
       "      <td>116.12</td>\n",
       "      <td>116.58</td>\n",
       "      <td>48.14</td>\n",
       "      <td>48.33</td>\n",
       "      <td>47.74</td>\n",
       "      <td>48.00</td>\n",
       "      <td>0.59</td>\n",
       "      <td>1.0662</td>\n",
       "      <td>16.79</td>\n",
       "      <td>16.92</td>\n",
       "      <td>16.70</td>\n",
       "      <td>16.92</td>\n",
       "      <td>238954.0</td>\n",
       "      <td>0.570</td>\n",
       "      <td>107.16</td>\n",
       "      <td>108.7000</td>\n",
       "      <td>106.82</td>\n",
       "      <td>108.59</td>\n",
       "      <td>-1.246059</td>\n",
       "      <td>-1.248261</td>\n",
       "      <td>-1.244905</td>\n",
       "      <td>-1.246771</td>\n",
       "      <td>-1.085768</td>\n",
       "      <td>-1.086593</td>\n",
       "      <td>-1.085878</td>\n",
       "      <td>-1.085816</td>\n",
       "      <td>-0.798516</td>\n",
       "      <td>2.291334</td>\n",
       "      <td>-0.663693</td>\n",
       "      <td>-0.672175</td>\n",
       "      <td>-0.657138</td>\n",
       "      <td>-0.666184</td>\n",
       "      <td>-0.611130</td>\n",
       "      <td>-0.481680</td>\n",
       "      <td>-1.249609</td>\n",
       "      <td>-1.261982</td>\n",
       "      <td>-1.257552</td>\n",
       "      <td>-1.269578</td>\n",
       "    </tr>\n",
       "    <tr>\n",
       "      <th>1</th>\n",
       "      <td>2010-03-30</td>\n",
       "      <td>117.46</td>\n",
       "      <td>117.83</td>\n",
       "      <td>116.91</td>\n",
       "      <td>117.40</td>\n",
       "      <td>48.36</td>\n",
       "      <td>48.55</td>\n",
       "      <td>48.06</td>\n",
       "      <td>48.39</td>\n",
       "      <td>0.49</td>\n",
       "      <td>1.0671</td>\n",
       "      <td>17.29</td>\n",
       "      <td>17.35</td>\n",
       "      <td>17.21</td>\n",
       "      <td>17.27</td>\n",
       "      <td>81770.0</td>\n",
       "      <td>0.420</td>\n",
       "      <td>108.57</td>\n",
       "      <td>108.6615</td>\n",
       "      <td>107.87</td>\n",
       "      <td>107.97</td>\n",
       "      <td>-1.243252</td>\n",
       "      <td>-1.244812</td>\n",
       "      <td>-1.243327</td>\n",
       "      <td>-1.243469</td>\n",
       "      <td>-1.085931</td>\n",
       "      <td>-1.085375</td>\n",
       "      <td>-1.088106</td>\n",
       "      <td>-1.087698</td>\n",
       "      <td>-0.647110</td>\n",
       "      <td>2.077103</td>\n",
       "      <td>-0.567484</td>\n",
       "      <td>-0.577339</td>\n",
       "      <td>-0.562312</td>\n",
       "      <td>-0.574735</td>\n",
       "      <td>-0.581854</td>\n",
       "      <td>-0.615492</td>\n",
       "      <td>-1.202071</td>\n",
       "      <td>-1.200889</td>\n",
       "      <td>-1.187512</td>\n",
       "      <td>-1.191842</td>\n",
       "    </tr>\n",
       "    <tr>\n",
       "      <th>2</th>\n",
       "      <td>2010-03-31</td>\n",
       "      <td>116.95</td>\n",
       "      <td>117.52</td>\n",
       "      <td>116.61</td>\n",
       "      <td>117.00</td>\n",
       "      <td>48.23</td>\n",
       "      <td>48.45</td>\n",
       "      <td>48.07</td>\n",
       "      <td>48.16</td>\n",
       "      <td>0.38</td>\n",
       "      <td>1.0528</td>\n",
       "      <td>17.53</td>\n",
       "      <td>17.59</td>\n",
       "      <td>17.41</td>\n",
       "      <td>17.45</td>\n",
       "      <td>76390.0</td>\n",
       "      <td>0.720</td>\n",
       "      <td>109.44</td>\n",
       "      <td>109.5000</td>\n",
       "      <td>108.85</td>\n",
       "      <td>108.95</td>\n",
       "      <td>-1.239538</td>\n",
       "      <td>-1.239967</td>\n",
       "      <td>-1.236518</td>\n",
       "      <td>-1.235545</td>\n",
       "      <td>-1.086586</td>\n",
       "      <td>-1.085213</td>\n",
       "      <td>-1.085218</td>\n",
       "      <td>-1.084016</td>\n",
       "      <td>-0.766072</td>\n",
       "      <td>2.191869</td>\n",
       "      <td>-0.557863</td>\n",
       "      <td>-0.553631</td>\n",
       "      <td>-0.544328</td>\n",
       "      <td>-0.536230</td>\n",
       "      <td>-0.412833</td>\n",
       "      <td>-0.109981</td>\n",
       "      <td>-1.182038</td>\n",
       "      <td>-1.183536</td>\n",
       "      <td>-1.175554</td>\n",
       "      <td>-1.170456</td>\n",
       "    </tr>\n",
       "    <tr>\n",
       "      <th>3</th>\n",
       "      <td>2010-04-07</td>\n",
       "      <td>118.80</td>\n",
       "      <td>119.36</td>\n",
       "      <td>117.81</td>\n",
       "      <td>118.36</td>\n",
       "      <td>48.69</td>\n",
       "      <td>48.87</td>\n",
       "      <td>48.37</td>\n",
       "      <td>48.63</td>\n",
       "      <td>0.50</td>\n",
       "      <td>1.0716</td>\n",
       "      <td>18.05</td>\n",
       "      <td>18.23</td>\n",
       "      <td>18.04</td>\n",
       "      <td>18.12</td>\n",
       "      <td>208058.0</td>\n",
       "      <td>0.640</td>\n",
       "      <td>111.85</td>\n",
       "      <td>112.9300</td>\n",
       "      <td>111.77</td>\n",
       "      <td>112.49</td>\n",
       "      <td>-1.227567</td>\n",
       "      <td>-1.230032</td>\n",
       "      <td>-1.222899</td>\n",
       "      <td>-1.227456</td>\n",
       "      <td>-1.080121</td>\n",
       "      <td>-1.081315</td>\n",
       "      <td>-1.078615</td>\n",
       "      <td>-1.080252</td>\n",
       "      <td>-0.881429</td>\n",
       "      <td>2.151701</td>\n",
       "      <td>-0.488913</td>\n",
       "      <td>-0.496729</td>\n",
       "      <td>-0.509994</td>\n",
       "      <td>-0.529813</td>\n",
       "      <td>-0.569045</td>\n",
       "      <td>-0.236359</td>\n",
       "      <td>-1.077455</td>\n",
       "      <td>-1.077251</td>\n",
       "      <td>-1.082964</td>\n",
       "      <td>-1.098490</td>\n",
       "    </tr>\n",
       "    <tr>\n",
       "      <th>4</th>\n",
       "      <td>2010-04-12</td>\n",
       "      <td>119.70</td>\n",
       "      <td>120.05</td>\n",
       "      <td>119.56</td>\n",
       "      <td>119.74</td>\n",
       "      <td>49.05</td>\n",
       "      <td>49.20</td>\n",
       "      <td>48.94</td>\n",
       "      <td>49.07</td>\n",
       "      <td>0.26</td>\n",
       "      <td>1.0598</td>\n",
       "      <td>18.38</td>\n",
       "      <td>18.46</td>\n",
       "      <td>18.11</td>\n",
       "      <td>18.12</td>\n",
       "      <td>102729.0</td>\n",
       "      <td>0.585</td>\n",
       "      <td>113.64</td>\n",
       "      <td>114.1300</td>\n",
       "      <td>112.98</td>\n",
       "      <td>113.01</td>\n",
       "      <td>-1.216918</td>\n",
       "      <td>-1.217551</td>\n",
       "      <td>-1.211356</td>\n",
       "      <td>-1.214662</td>\n",
       "      <td>-1.073330</td>\n",
       "      <td>-1.073274</td>\n",
       "      <td>-1.070940</td>\n",
       "      <td>-1.071578</td>\n",
       "      <td>-0.859800</td>\n",
       "      <td>2.145963</td>\n",
       "      <td>-0.498534</td>\n",
       "      <td>-0.497899</td>\n",
       "      <td>-0.475661</td>\n",
       "      <td>-0.486495</td>\n",
       "      <td>-0.618670</td>\n",
       "      <td>-0.422208</td>\n",
       "      <td>-1.102582</td>\n",
       "      <td>-1.091439</td>\n",
       "      <td>-1.087405</td>\n",
       "      <td>-1.076764</td>\n",
       "    </tr>\n",
       "  </tbody>\n",
       "</table>\n",
       "</div>"
      ],
      "text/plain": [
       "         date  sp500 open  sp500 high  sp500 low  sp500 close  nasdaq open  \\\n",
       "0  2010-03-26      116.87      117.42     116.12       116.58        48.14   \n",
       "1  2010-03-30      117.46      117.83     116.91       117.40        48.36   \n",
       "2  2010-03-31      116.95      117.52     116.61       117.00        48.23   \n",
       "3  2010-04-07      118.80      119.36     117.81       118.36        48.69   \n",
       "4  2010-04-12      119.70      120.05     119.56       119.74        49.05   \n",
       "\n",
       "   nasdaq high  nasdaq low  nasdaq close  nasdaq high-low  usd_chf  \\\n",
       "0        48.33       47.74         48.00             0.59   1.0662   \n",
       "1        48.55       48.06         48.39             0.49   1.0671   \n",
       "2        48.45       48.07         48.16             0.38   1.0528   \n",
       "3        48.87       48.37         48.63             0.50   1.0716   \n",
       "4        49.20       48.94         49.07             0.26   1.0598   \n",
       "\n",
       "   silver open  silver high  silver low  silver close  silver volume  \\\n",
       "0        16.79        16.92       16.70         16.92       238954.0   \n",
       "1        17.29        17.35       17.21         17.27        81770.0   \n",
       "2        17.53        17.59       17.41         17.45        76390.0   \n",
       "3        18.05        18.23       18.04         18.12       208058.0   \n",
       "4        18.38        18.46       18.11         18.12       102729.0   \n",
       "\n",
       "   oil high-low  gold open  gold high  gold low  gold close  \\\n",
       "0         0.570     107.16   108.7000    106.82      108.59   \n",
       "1         0.420     108.57   108.6615    107.87      107.97   \n",
       "2         0.720     109.44   109.5000    108.85      108.95   \n",
       "3         0.640     111.85   112.9300    111.77      112.49   \n",
       "4         0.585     113.64   114.1300    112.98      113.01   \n",
       "\n",
       "   standard__sp500 open  standard__sp500 high  standard__sp500 low  \\\n",
       "0             -1.246059             -1.248261            -1.244905   \n",
       "1             -1.243252             -1.244812            -1.243327   \n",
       "2             -1.239538             -1.239967            -1.236518   \n",
       "3             -1.227567             -1.230032            -1.222899   \n",
       "4             -1.216918             -1.217551            -1.211356   \n",
       "\n",
       "   standard__sp500 close  standard__nasdaq open  standard__nasdaq high  \\\n",
       "0              -1.246771              -1.085768              -1.086593   \n",
       "1              -1.243469              -1.085931              -1.085375   \n",
       "2              -1.235545              -1.086586              -1.085213   \n",
       "3              -1.227456              -1.080121              -1.081315   \n",
       "4              -1.214662              -1.073330              -1.073274   \n",
       "\n",
       "   standard__nasdaq low  standard__nasdaq close  standard__nasdaq high-low  \\\n",
       "0             -1.085878               -1.085816                  -0.798516   \n",
       "1             -1.088106               -1.087698                  -0.647110   \n",
       "2             -1.085218               -1.084016                  -0.766072   \n",
       "3             -1.078615               -1.080252                  -0.881429   \n",
       "4             -1.070940               -1.071578                  -0.859800   \n",
       "\n",
       "   standard__usd_chf  standard__silver open  standard__silver high  \\\n",
       "0           2.291334              -0.663693              -0.672175   \n",
       "1           2.077103              -0.567484              -0.577339   \n",
       "2           2.191869              -0.557863              -0.553631   \n",
       "3           2.151701              -0.488913              -0.496729   \n",
       "4           2.145963              -0.498534              -0.497899   \n",
       "\n",
       "   standard__silver low  standard__silver close  standard__silver volume  \\\n",
       "0             -0.657138               -0.666184                -0.611130   \n",
       "1             -0.562312               -0.574735                -0.581854   \n",
       "2             -0.544328               -0.536230                -0.412833   \n",
       "3             -0.509994               -0.529813                -0.569045   \n",
       "4             -0.475661               -0.486495                -0.618670   \n",
       "\n",
       "   standard__oil high-low  standard__gold open  standard__gold high  \\\n",
       "0               -0.481680            -1.249609            -1.261982   \n",
       "1               -0.615492            -1.202071            -1.200889   \n",
       "2               -0.109981            -1.182038            -1.183536   \n",
       "3               -0.236359            -1.077455            -1.077251   \n",
       "4               -0.422208            -1.102582            -1.091439   \n",
       "\n",
       "   standard__gold low  standard__gold close  \n",
       "0           -1.257552             -1.269578  \n",
       "1           -1.187512             -1.191842  \n",
       "2           -1.175554             -1.170456  \n",
       "3           -1.082964             -1.098490  \n",
       "4           -1.087405             -1.076764  "
      ]
     },
     "execution_count": 47,
     "metadata": {},
     "output_type": "execute_result"
    }
   ],
   "source": [
    "# reconhecendo as primeiras linhas do df\n",
    "df_gold_trans.head(5)"
   ]
  },
  {
   "cell_type": "code",
   "execution_count": 48,
   "metadata": {},
   "outputs": [
    {
     "name": "stdout",
     "output_type": "stream",
     "text": [
      "<class 'pandas.core.frame.DataFrame'>\n",
      "RangeIndex: 1152 entries, 0 to 1151\n",
      "Data columns (total 41 columns):\n",
      " #   Column                     Non-Null Count  Dtype  \n",
      "---  ------                     --------------  -----  \n",
      " 0   date                       1152 non-null   object \n",
      " 1   sp500 open                 1152 non-null   float64\n",
      " 2   sp500 high                 1152 non-null   float64\n",
      " 3   sp500 low                  1152 non-null   float64\n",
      " 4   sp500 close                1152 non-null   float64\n",
      " 5   nasdaq open                1152 non-null   float64\n",
      " 6   nasdaq high                1152 non-null   float64\n",
      " 7   nasdaq low                 1152 non-null   float64\n",
      " 8   nasdaq close               1152 non-null   float64\n",
      " 9   nasdaq high-low            1152 non-null   float64\n",
      " 10  usd_chf                    1152 non-null   float64\n",
      " 11  silver open                1152 non-null   float64\n",
      " 12  silver high                1152 non-null   float64\n",
      " 13  silver low                 1152 non-null   float64\n",
      " 14  silver close               1152 non-null   float64\n",
      " 15  silver volume              1152 non-null   float64\n",
      " 16  oil high-low               1152 non-null   float64\n",
      " 17  gold open                  1152 non-null   float64\n",
      " 18  gold high                  1152 non-null   float64\n",
      " 19  gold low                   1152 non-null   float64\n",
      " 20  gold close                 1152 non-null   float64\n",
      " 21  standard__sp500 open       1152 non-null   float64\n",
      " 22  standard__sp500 high       1152 non-null   float64\n",
      " 23  standard__sp500 low        1152 non-null   float64\n",
      " 24  standard__sp500 close      1152 non-null   float64\n",
      " 25  standard__nasdaq open      1152 non-null   float64\n",
      " 26  standard__nasdaq high      1152 non-null   float64\n",
      " 27  standard__nasdaq low       1152 non-null   float64\n",
      " 28  standard__nasdaq close     1152 non-null   float64\n",
      " 29  standard__nasdaq high-low  1152 non-null   float64\n",
      " 30  standard__usd_chf          1152 non-null   float64\n",
      " 31  standard__silver open      1152 non-null   float64\n",
      " 32  standard__silver high      1152 non-null   float64\n",
      " 33  standard__silver low       1152 non-null   float64\n",
      " 34  standard__silver close     1152 non-null   float64\n",
      " 35  standard__silver volume    1152 non-null   float64\n",
      " 36  standard__oil high-low     1152 non-null   float64\n",
      " 37  standard__gold open        1152 non-null   float64\n",
      " 38  standard__gold high        1152 non-null   float64\n",
      " 39  standard__gold low         1152 non-null   float64\n",
      " 40  standard__gold close       1152 non-null   float64\n",
      "dtypes: float64(40), object(1)\n",
      "memory usage: 369.1+ KB\n"
     ]
    }
   ],
   "source": [
    "# verificando a posição de cada variável\n",
    "df_gold_trans.info()"
   ]
  },
  {
   "cell_type": "code",
   "execution_count": 49,
   "metadata": {},
   "outputs": [],
   "source": [
    "# separando variáveis independentes(x) e dependentes(y)\n",
    "X = df_gold_trans[list(df_gold_trans.columns[21:40])]\n",
    "y = df_gold_trans[['standard__gold close']]"
   ]
  },
  {
   "cell_type": "code",
   "execution_count": 50,
   "metadata": {},
   "outputs": [
    {
     "name": "stdout",
     "output_type": "stream",
     "text": [
      "<class 'pandas.core.frame.DataFrame'>\n",
      "RangeIndex: 1152 entries, 0 to 1151\n",
      "Data columns (total 19 columns):\n",
      " #   Column                     Non-Null Count  Dtype  \n",
      "---  ------                     --------------  -----  \n",
      " 0   standard__sp500 open       1152 non-null   float64\n",
      " 1   standard__sp500 high       1152 non-null   float64\n",
      " 2   standard__sp500 low        1152 non-null   float64\n",
      " 3   standard__sp500 close      1152 non-null   float64\n",
      " 4   standard__nasdaq open      1152 non-null   float64\n",
      " 5   standard__nasdaq high      1152 non-null   float64\n",
      " 6   standard__nasdaq low       1152 non-null   float64\n",
      " 7   standard__nasdaq close     1152 non-null   float64\n",
      " 8   standard__nasdaq high-low  1152 non-null   float64\n",
      " 9   standard__usd_chf          1152 non-null   float64\n",
      " 10  standard__silver open      1152 non-null   float64\n",
      " 11  standard__silver high      1152 non-null   float64\n",
      " 12  standard__silver low       1152 non-null   float64\n",
      " 13  standard__silver close     1152 non-null   float64\n",
      " 14  standard__silver volume    1152 non-null   float64\n",
      " 15  standard__oil high-low     1152 non-null   float64\n",
      " 16  standard__gold open        1152 non-null   float64\n",
      " 17  standard__gold high        1152 non-null   float64\n",
      " 18  standard__gold low         1152 non-null   float64\n",
      "dtypes: float64(19)\n",
      "memory usage: 171.1 KB\n",
      "X= None\n",
      "<class 'pandas.core.frame.DataFrame'>\n",
      "RangeIndex: 1152 entries, 0 to 1151\n",
      "Data columns (total 1 columns):\n",
      " #   Column                Non-Null Count  Dtype  \n",
      "---  ------                --------------  -----  \n",
      " 0   standard__gold close  1152 non-null   float64\n",
      "dtypes: float64(1)\n",
      "memory usage: 9.1 KB\n",
      "y= None\n"
     ]
    }
   ],
   "source": [
    "print('X=', X.info())\n",
    "print('y=', y.info())"
   ]
  },
  {
   "cell_type": "code",
   "execution_count": 51,
   "metadata": {},
   "outputs": [],
   "source": [
    "# separando os sets de treino e teste em 20% para teste e 80% para treino\n",
    "X_train, X_test, Y_train, Y_test = train_test_split(X, y, test_size=0.20, random_state=42)"
   ]
  },
  {
   "cell_type": "code",
   "execution_count": 52,
   "metadata": {},
   "outputs": [],
   "source": [
    "# hiperparâmetros do CV\n",
    "num_folds = 10\n",
    "scoring = 'neg_mean_squared_error'"
   ]
  },
  {
   "cell_type": "code",
   "execution_count": 53,
   "metadata": {},
   "outputs": [],
   "source": [
    "# implementando os modelos de ML\n",
    "models = []\n",
    "\n",
    "# regressão e árvore de regressão\n",
    "models.append(('LR', LinearRegression()))\n",
    "models.append(('LASSO', Lasso()))\n",
    "models.append(('EN', ElasticNet()))\n",
    "models.append(('KNN', KNeighborsRegressor()))\n",
    "models.append(('CART', DecisionTreeRegressor()))\n",
    "models.append(('SVR', SVR()))\n",
    "\n",
    "# rede neural\n",
    "models.append(('MLP', MLPRegressor()))\n",
    "\n",
    "# ensemble - boosting\n",
    "models.append(('ABR', AdaBoostRegressor()))\n",
    "models.append(('GBR', GradientBoostingRegressor()))\n",
    "\n",
    "# ensemble - bagging\n",
    "models.append(('RFR', RandomForestRegressor()))\n",
    "models.append(('ETR', ExtraTreesRegressor()))"
   ]
  },
  {
   "cell_type": "code",
   "execution_count": 54,
   "metadata": {},
   "outputs": [],
   "source": [
    "# analisando k-fold\n",
    "names = []\n",
    "kfold_results = []\n",
    "test_results = []\n",
    "train_results = []\n",
    "\n",
    "for name, model in models:\n",
    "    names.append(name)\n",
    "\n",
    "    divisorC, divisorK=1, 1\n",
    "    if name in ('EN', 'LASSO'): \n",
    "        divisorC=100 # modificando a escala para visualizar no gráfico   \n",
    "        divisorK=10  \n",
    "    else:\n",
    "        if name in ('LR', 'GBR', 'RFR', 'ETR', 'CART', 'ABR'): \n",
    "            divisorK=0.1 # modificando a escala para visualizar no gráfico            \n",
    "\n",
    "    #divisorC, divisorK=1, 1\n",
    "\n",
    "    # análise k-fold\n",
    "    kfold = KFold(n_splits=num_folds, random_state=None)\n",
    "\n",
    "    # erro quadrático médio convertido para positivo. Quanto menor melhor.\n",
    "    cv_results = -1* cross_val_score(model, X_train, Y_train, cv= kfold, scoring=scoring)\n",
    "    kfold_results.append(cv_results/divisorK)\n",
    "\n",
    "    # período completo de treinamento\n",
    "    res = model.fit(X_train, Y_train)\n",
    "    train_result = mean_squared_error(res.predict(X_train), Y_train)\n",
    "    train_results.append(train_result/divisorC)\n",
    "\n",
    "    # resultado dos testes\n",
    "    test_result = mean_squared_error(res.predict(X_test), Y_test)\n",
    "    test_results.append(test_result/divisorC)"
   ]
  },
  {
   "cell_type": "code",
   "execution_count": 55,
   "metadata": {},
   "outputs": [
    {
     "data": {
      "image/png": "[encoded data removed]",
      "text/plain": [
       "<Figure size 1000x500 with 1 Axes>"
      ]
     },
     "metadata": {},
     "output_type": "display_data"
    }
   ],
   "source": [
    "# comparando resultados da validação cruzada\n",
    "fig = pyplot.figure()\n",
    "fig.suptitle('Algorithm Comparison: kfold results')\n",
    "ax = fig.add_subplot(111)\n",
    "pyplot.boxplot(kfold_results)\n",
    "ax.set_xticklabels(names)\n",
    "fig.set_size_inches(10,5)\n",
    "pyplot.show()"
   ]
  },
  {
   "cell_type": "code",
   "execution_count": 56,
   "metadata": {},
   "outputs": [
    {
     "data": {
      "image/png": "[encoded data removed]",
      "text/plain": [
       "<Figure size 1000x500 with 1 Axes>"
      ]
     },
     "metadata": {},
     "output_type": "display_data"
    }
   ],
   "source": [
    "# analisando o erro de treinamento e de teste\n",
    "# comparando algoritmos\n",
    "fig = pyplot.figure()\n",
    "\n",
    "ind = np.arange(len(names)) # as localidades x para os grupos\n",
    "width = 0.35 # largura das barras\n",
    "\n",
    "fig.suptitle('Algorithm Comparion')\n",
    "ax = fig.add_subplot(111)\n",
    "pyplot.bar(ind - width, train_results, width=width, label='train Error', color='green')\n",
    "pyplot.bar(ind, test_results, width=width, label='test Error', color='yellow')\n",
    "fig.set_size_inches(10,5)\n",
    "pyplot.legend()\n",
    "ax.set_xticks(ind)\n",
    "ax.set_xticklabels(names)\n",
    "pyplot.savefig('grafic_image/compara_erro.png', format='png')\n",
    "pyplot.show()\n"
   ]
  },
  {
   "cell_type": "code",
   "execution_count": 57,
   "metadata": {},
   "outputs": [],
   "source": [
    "# preparando conjunto de dados para modelos ARIMA\n",
    "# deixando variáveis correlacionadas como variáveis exógenas\n",
    "\n",
    "X_train_ARIMA = X_train.loc[:, list(X.columns)]\n",
    "X_test_ARIMA = X_test.loc[:, list(X.columns)]\n",
    "\n",
    "tr_len = len(X_train_ARIMA)\n",
    "te_len = len(X_test_ARIMA)\n",
    "to_len = len(X)"
   ]
  },
  {
   "cell_type": "code",
   "execution_count": 58,
   "metadata": {},
   "outputs": [],
   "source": [
    "# treinando o modelo ARIMA\n",
    "import statsmodels.api as sm\n",
    "\n",
    "model_arima = sm.tsa.arima.ARIMA(endog= Y_train, exog= X_train_ARIMA, order=[1,0,0])\n",
    "ARIMAModel = model_arima.fit()\n",
    "\n",
    "error_training_ARIMA = mean_squared_error(Y_train, ARIMAModel.fittedvalues)\n",
    "predicated = ARIMAModel.predict(start= tr_len -1, end= to_len -1, exog= X_test_ARIMA)[1:]\n",
    "error_test_ARIMA = mean_squared_error(Y_test, predicated)"
   ]
  },
  {
   "cell_type": "code",
   "execution_count": 59,
   "metadata": {},
   "outputs": [
    {
     "name": "stdout",
     "output_type": "stream",
     "text": [
      "error_training_ARIMA 3.9157343827620575e-05\n",
      "error_test_ARIMA 7.461438658242766e-05\n"
     ]
    }
   ],
   "source": [
    "print('error_training_ARIMA', error_training_ARIMA)\n",
    "print('error_test_ARIMA', error_test_ARIMA)\n",
    "#print('predicated', predicated.head(5))"
   ]
  },
  {
   "cell_type": "code",
   "execution_count": 60,
   "metadata": {},
   "outputs": [],
   "source": [
    "# treinando o modelo LST\n",
    "seq_len = 2 #Comprimento da seq para o LSTM \n",
    "Y_train_LSTM, Y_test_LSTM = np.array(Y_train)[seq_len-1:], np.array(Y_test) \n",
    "X_train_LSTM = np.zeros((X_train.shape[0]+1-seq_len, seq_len, X_train.shape[1])) \n",
    "X_test_LSTM = np.zeros((X_test.shape[0], seq_len, X.shape[1])) \n",
    "for i in range(seq_len):\n",
    "    X_train_LSTM[:, i, :] = np.array(X_train)[i:X_train.shape[0]+i+1-seq_len, :] \n",
    "    X_test_LSTM[:, i, :] = np.array(X)[X_train.shape[0]+i-1:X.shape[0]+i+1-seq_len, :]"
   ]
  },
  {
   "cell_type": "code",
   "execution_count": 61,
   "metadata": {},
   "outputs": [],
   "source": [
    "# LSTM Network \n",
    "def create_LSTMmodel(learn_rate = 0.01, momentum=0.0): \n",
    "    # criação do modelo \n",
    "    model = Sequential() \n",
    "    model.add(LSTM(50, input_shape=(X_train_LSTM.shape[1], X_train_LSTM.shape[2]))) \n",
    "\n",
    "    #Mais células podem ser acrescentadas, se necessário \n",
    "    model.add(Dense(1))\n",
    "    optimizer = SGD(momentum=momentum) \n",
    "    #optimizer = SGD(lr=learn_rate, momentum=momentum) \n",
    "    model.compile(loss='mse', optimizer='adam') \n",
    "    return model "
   ]
  },
  {
   "cell_type": "code",
   "execution_count": 62,
   "metadata": {},
   "outputs": [],
   "source": [
    "LSTMModel = create_LSTMmodel(learn_rate = 0.01, momentum=0.0) \n",
    "LSTMModel_fit = LSTMModel.fit(X_train_LSTM, Y_train_LSTM,  \n",
    "                    validation_data=(X_test_LSTM, Y_test_LSTM),\n",
    "                    epochs=330, batch_size=72, verbose=0, shuffle=False)"
   ]
  },
  {
   "cell_type": "code",
   "execution_count": 63,
   "metadata": {},
   "outputs": [
    {
     "data": {
      "image/png": "[encoded data removed]",
      "text/plain": [
       "<Figure size 640x480 with 1 Axes>"
      ]
     },
     "metadata": {},
     "output_type": "display_data"
    }
   ],
   "source": [
    "pyplot.plot(LSTMModel_fit.history['loss'], label='train', ) \n",
    "pyplot.plot(LSTMModel_fit.history['val_loss'], '--',label='test',) \n",
    "pyplot.legend() \n",
    "pyplot.show()"
   ]
  },
  {
   "cell_type": "code",
   "execution_count": 64,
   "metadata": {},
   "outputs": [
    {
     "name": "stdout",
     "output_type": "stream",
     "text": [
      "\u001b[1m29/29\u001b[0m \u001b[32m━━━━━━━━━━━━━━━━━━━━\u001b[0m\u001b[37m\u001b[0m \u001b[1m1s\u001b[0m 21ms/step\n",
      "\u001b[1m8/8\u001b[0m \u001b[32m━━━━━━━━━━━━━━━━━━━━\u001b[0m\u001b[37m\u001b[0m \u001b[1m0s\u001b[0m 4ms/step \n"
     ]
    }
   ],
   "source": [
    "error_training_LSTM = mean_squared_error(Y_train_LSTM, LSTMModel.predict(X_train_LSTM)) \n",
    "predicted = LSTMModel.predict(X_test_LSTM) \n",
    "error_test_LSTM = mean_squared_error(Y_test,predicted)"
   ]
  },
  {
   "cell_type": "code",
   "execution_count": 65,
   "metadata": {},
   "outputs": [],
   "source": [
    "test_results.append(error_test_ARIMA) \n",
    "test_results.append(error_test_LSTM) \n",
    "train_results.append(error_training_ARIMA) \n",
    "train_results.append(error_training_LSTM)"
   ]
  },
  {
   "cell_type": "code",
   "execution_count": 66,
   "metadata": {},
   "outputs": [],
   "source": [
    "names.append('ARIMA') \n",
    "names.append('LSTM')"
   ]
  },
  {
   "cell_type": "code",
   "execution_count": 67,
   "metadata": {},
   "outputs": [],
   "source": [
    "def evaluate_arima_model(arima_order):\n",
    "    #previsto = list() \n",
    "    modelARIMA=ARIMA(endog=Y_train,exog=X_train_ARIMA,order=arima_order) \n",
    "    model_fit = modelARIMA.fit()\n",
    "    error = mean_squared_error(Y_train, model_fit.fittedvalues) \n",
    "    return error     "
   ]
  },
  {
   "cell_type": "code",
   "execution_count": 68,
   "metadata": {},
   "outputs": [],
   "source": [
    "# avaliar combinações dos valores de p, d e q para um modelo ARIMA \n",
    "def evaluate_models(p_values, d_values, q_values): \n",
    "    best_score, best_cfg = float('inf'), None \n",
    "    for p in p_values: \n",
    "        for d in d_values: \n",
    "            for q in q_values: \n",
    "                order = (p,d,q) \n",
    "                try:                   \n",
    "                    mse = evaluate_arima_model(order) \n",
    "                    if mse < best_score: \n",
    "                        best_score, best_cfg = mse, order \n",
    "                        print('ARIMA%s MSE=%.7f' % (order,mse)) \n",
    "                except: \n",
    "                    continue \n",
    "                print('Best ARIMA%s MSE=%.7f' % (best_cfg, best_score)) "
   ]
  },
  {
   "cell_type": "code",
   "execution_count": 69,
   "metadata": {},
   "outputs": [],
   "source": [
    "# avaliação de parâmetros \n",
    "p_values = [0, 1, 2] \n",
    "d_values = range(0, 2) \n",
    "q_values = range(0, 2) \n",
    "warnings.filterwarnings('ignore')\n",
    "evaluate_models(p_values, d_values, q_values)"
   ]
  },
  {
   "cell_type": "code",
   "execution_count": 70,
   "metadata": {},
   "outputs": [],
   "source": [
    "# preparação do modelo\n",
    "\n",
    "from statsmodels.tsa.arima.model import ARIMA\n",
    "\n",
    "modelARIMA_tuned=ARIMA(endog=Y_train,exog=X_train_ARIMA,order=[2,0,1]) \n",
    "model_fit_tuned = modelARIMA_tuned.fit() "
   ]
  },
  {
   "cell_type": "code",
   "execution_count": 71,
   "metadata": {},
   "outputs": [
    {
     "ename": "NameError",
     "evalue": "name 'model_fit' is not defined",
     "output_type": "error",
     "traceback": [
      "\u001b[1;31m---------------------------------------------------------------------------\u001b[0m",
      "\u001b[1;31mNameError\u001b[0m                                 Traceback (most recent call last)",
      "Cell \u001b[1;32mIn[71], line 2\u001b[0m\n\u001b[0;32m      1\u001b[0m \u001b[38;5;66;03m# estimar a acurácia no conjunto de validação \u001b[39;00m\n\u001b[1;32m----> 2\u001b[0m predicted_tuned \u001b[38;5;241m=\u001b[39m \u001b[43mmodel_fit\u001b[49m\u001b[38;5;241m.\u001b[39mpredict(start \u001b[38;5;241m=\u001b[39m tr_len \u001b[38;5;241m-\u001b[39m\u001b[38;5;241m1\u001b[39m , end \u001b[38;5;241m=\u001b[39m to_len \u001b[38;5;241m-\u001b[39m\u001b[38;5;241m1\u001b[39m, exog \u001b[38;5;241m=\u001b[39m X_test_ARIMA)[\u001b[38;5;241m1\u001b[39m:] \n\u001b[0;32m      3\u001b[0m \u001b[38;5;28mprint\u001b[39m(mean_squared_error(Y_test,predicted_tuned))\n",
      "\u001b[1;31mNameError\u001b[0m: name 'model_fit' is not defined"
     ]
    }
   ],
   "source": [
    "# estimar a acurácia no conjunto de validação \n",
    "predicted_tuned = model_fit.predict(start = tr_len -1 , end = to_len -1, exog = X_test_ARIMA)[1:] \n",
    "print(mean_squared_error(Y_test,predicted_tuned))"
   ]
  },
  {
   "cell_type": "code",
   "execution_count": null,
   "metadata": {},
   "outputs": [
    {
     "data": {
      "text/plain": [
       "[<matplotlib.lines.Line2D at 0x1dcda252d10>]"
      ]
     },
     "execution_count": 124,
     "metadata": {},
     "output_type": "execute_result"
    },
    {
     "data": {
      "image/png": "[encoded data removed]",
      "text/plain": [
       "<Figure size 640x480 with 1 Axes>"
      ]
     },
     "metadata": {},
     "output_type": "display_data"
    }
   ],
   "source": [
    "# plotar os dados reais comparados com os previstos \n",
    "predicted_tuned.index = Y_test.index \n",
    "pyplot.plot(np.exp(Y_test).cumprod(), 'r', label='actual',) "
   ]
  },
  {
   "cell_type": "code",
   "execution_count": null,
   "metadata": {},
   "outputs": [
    {
     "data": {
      "image/png": "[encoded data removed]",
      "text/plain": [
       "<Figure size 640x480 with 1 Axes>"
      ]
     },
     "metadata": {},
     "output_type": "display_data"
    }
   ],
   "source": [
    "# plotar t e a de forma separada \n",
    "pyplot.plot(np.exp(predicted_tuned).cumprod(), 'b--', label='predicted') \n",
    "pyplot.legend() \n",
    "pyplot.rcParams['figure.figsize'] = (8,5) \n",
    "pyplot.show()"
   ]
  }
 ],
 "metadata": {
  "kernelspec": {
   "display_name": "Python 3",
   "language": "python",
   "name": "python3"
  },
  "language_info": {
   "codemirror_mode": {
    "name": "ipython",
    "version": 3
   },
   "file_extension": ".py",
   "mimetype": "text/x-python",
   "name": "python",
   "nbconvert_exporter": "python",
   "pygments_lexer": "ipython3",
   "version": "3.11.5"
  }
 },
 "nbformat": 4,
 "nbformat_minor": 2
}
